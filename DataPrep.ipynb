{
 "cells": [
  {
   "cell_type": "code",
   "execution_count": 4,
   "id": "80325f68-96c2-497c-8d22-914338d7c3b8",
   "metadata": {},
   "outputs": [],
   "source": [
    "import pandas as pd"
   ]
  },
  {
   "cell_type": "code",
   "execution_count": 5,
   "id": "d9521c22-34a0-4664-bdf2-f30ca6208bce",
   "metadata": {},
   "outputs": [
    {
     "ename": "ImportError",
     "evalue": "Missing optional dependency 'xlrd'. Install xlrd >= 2.0.1 for xls Excel support Use pip or conda to install xlrd.",
     "output_type": "error",
     "traceback": [
      "\u001b[1;31m---------------------------------------------------------------------------\u001b[0m",
      "\u001b[1;31mModuleNotFoundError\u001b[0m                       Traceback (most recent call last)",
      "File \u001b[1;32m~\\anacon\\Lib\\site-packages\\pandas\\compat\\_optional.py:135\u001b[0m, in \u001b[0;36mimport_optional_dependency\u001b[1;34m(name, extra, errors, min_version)\u001b[0m\n\u001b[0;32m    134\u001b[0m \u001b[38;5;28;01mtry\u001b[39;00m:\n\u001b[1;32m--> 135\u001b[0m     module \u001b[38;5;241m=\u001b[39m importlib\u001b[38;5;241m.\u001b[39mimport_module(name)\n\u001b[0;32m    136\u001b[0m \u001b[38;5;28;01mexcept\u001b[39;00m \u001b[38;5;167;01mImportError\u001b[39;00m:\n",
      "File \u001b[1;32m~\\anacon\\Lib\\importlib\\__init__.py:90\u001b[0m, in \u001b[0;36mimport_module\u001b[1;34m(name, package)\u001b[0m\n\u001b[0;32m     89\u001b[0m         level \u001b[38;5;241m+\u001b[39m\u001b[38;5;241m=\u001b[39m \u001b[38;5;241m1\u001b[39m\n\u001b[1;32m---> 90\u001b[0m \u001b[38;5;28;01mreturn\u001b[39;00m _bootstrap\u001b[38;5;241m.\u001b[39m_gcd_import(name[level:], package, level)\n",
      "File \u001b[1;32m<frozen importlib._bootstrap>:1387\u001b[0m, in \u001b[0;36m_gcd_import\u001b[1;34m(name, package, level)\u001b[0m\n",
      "File \u001b[1;32m<frozen importlib._bootstrap>:1360\u001b[0m, in \u001b[0;36m_find_and_load\u001b[1;34m(name, import_)\u001b[0m\n",
      "File \u001b[1;32m<frozen importlib._bootstrap>:1324\u001b[0m, in \u001b[0;36m_find_and_load_unlocked\u001b[1;34m(name, import_)\u001b[0m\n",
      "\u001b[1;31mModuleNotFoundError\u001b[0m: No module named 'xlrd'",
      "\nDuring handling of the above exception, another exception occurred:\n",
      "\u001b[1;31mImportError\u001b[0m                               Traceback (most recent call last)",
      "Cell \u001b[1;32mIn[5], line 5\u001b[0m\n\u001b[0;32m      2\u001b[0m file_path \u001b[38;5;241m=\u001b[39m \u001b[38;5;124mr\u001b[39m\u001b[38;5;124m\"\u001b[39m\u001b[38;5;124mC:\u001b[39m\u001b[38;5;124m\\\u001b[39m\u001b[38;5;124mUsers\u001b[39m\u001b[38;5;124m\\\u001b[39m\u001b[38;5;124maishw\u001b[39m\u001b[38;5;124m\\\u001b[39m\u001b[38;5;124mDownloads\u001b[39m\u001b[38;5;124m\\\u001b[39m\u001b[38;5;124mDV Final project\u001b[39m\u001b[38;5;124m\\\u001b[39m\u001b[38;5;124mWorld Bank – Health Expenditure (as \u001b[39m\u001b[38;5;132;01m% o\u001b[39;00m\u001b[38;5;124mf GDP).xls\u001b[39m\u001b[38;5;124m\"\u001b[39m\n\u001b[0;32m      4\u001b[0m \u001b[38;5;66;03m# Load the Excel file and skip metadata rows\u001b[39;00m\n\u001b[1;32m----> 5\u001b[0m wb_df \u001b[38;5;241m=\u001b[39m pd\u001b[38;5;241m.\u001b[39mread_excel(file_path, skiprows\u001b[38;5;241m=\u001b[39m\u001b[38;5;241m4\u001b[39m)\n\u001b[0;32m      7\u001b[0m \u001b[38;5;66;03m# Drop any unnamed trailing columns\u001b[39;00m\n\u001b[0;32m      8\u001b[0m wb_df \u001b[38;5;241m=\u001b[39m wb_df\u001b[38;5;241m.\u001b[39mdrop(columns\u001b[38;5;241m=\u001b[39m[col \u001b[38;5;28;01mfor\u001b[39;00m col \u001b[38;5;129;01min\u001b[39;00m wb_df\u001b[38;5;241m.\u001b[39mcolumns \u001b[38;5;28;01mif\u001b[39;00m \u001b[38;5;124m\"\u001b[39m\u001b[38;5;124mUnnamed\u001b[39m\u001b[38;5;124m\"\u001b[39m \u001b[38;5;129;01min\u001b[39;00m col])\n",
      "File \u001b[1;32m~\\anacon\\Lib\\site-packages\\pandas\\io\\excel\\_base.py:495\u001b[0m, in \u001b[0;36mread_excel\u001b[1;34m(io, sheet_name, header, names, index_col, usecols, dtype, engine, converters, true_values, false_values, skiprows, nrows, na_values, keep_default_na, na_filter, verbose, parse_dates, date_parser, date_format, thousands, decimal, comment, skipfooter, storage_options, dtype_backend, engine_kwargs)\u001b[0m\n\u001b[0;32m    493\u001b[0m \u001b[38;5;28;01mif\u001b[39;00m \u001b[38;5;129;01mnot\u001b[39;00m \u001b[38;5;28misinstance\u001b[39m(io, ExcelFile):\n\u001b[0;32m    494\u001b[0m     should_close \u001b[38;5;241m=\u001b[39m \u001b[38;5;28;01mTrue\u001b[39;00m\n\u001b[1;32m--> 495\u001b[0m     io \u001b[38;5;241m=\u001b[39m ExcelFile(\n\u001b[0;32m    496\u001b[0m         io,\n\u001b[0;32m    497\u001b[0m         storage_options\u001b[38;5;241m=\u001b[39mstorage_options,\n\u001b[0;32m    498\u001b[0m         engine\u001b[38;5;241m=\u001b[39mengine,\n\u001b[0;32m    499\u001b[0m         engine_kwargs\u001b[38;5;241m=\u001b[39mengine_kwargs,\n\u001b[0;32m    500\u001b[0m     )\n\u001b[0;32m    501\u001b[0m \u001b[38;5;28;01melif\u001b[39;00m engine \u001b[38;5;129;01mand\u001b[39;00m engine \u001b[38;5;241m!=\u001b[39m io\u001b[38;5;241m.\u001b[39mengine:\n\u001b[0;32m    502\u001b[0m     \u001b[38;5;28;01mraise\u001b[39;00m \u001b[38;5;167;01mValueError\u001b[39;00m(\n\u001b[0;32m    503\u001b[0m         \u001b[38;5;124m\"\u001b[39m\u001b[38;5;124mEngine should not be specified when passing \u001b[39m\u001b[38;5;124m\"\u001b[39m\n\u001b[0;32m    504\u001b[0m         \u001b[38;5;124m\"\u001b[39m\u001b[38;5;124man ExcelFile - ExcelFile already has the engine set\u001b[39m\u001b[38;5;124m\"\u001b[39m\n\u001b[0;32m    505\u001b[0m     )\n",
      "File \u001b[1;32m~\\anacon\\Lib\\site-packages\\pandas\\io\\excel\\_base.py:1567\u001b[0m, in \u001b[0;36mExcelFile.__init__\u001b[1;34m(self, path_or_buffer, engine, storage_options, engine_kwargs)\u001b[0m\n\u001b[0;32m   1564\u001b[0m \u001b[38;5;28mself\u001b[39m\u001b[38;5;241m.\u001b[39mengine \u001b[38;5;241m=\u001b[39m engine\n\u001b[0;32m   1565\u001b[0m \u001b[38;5;28mself\u001b[39m\u001b[38;5;241m.\u001b[39mstorage_options \u001b[38;5;241m=\u001b[39m storage_options\n\u001b[1;32m-> 1567\u001b[0m \u001b[38;5;28mself\u001b[39m\u001b[38;5;241m.\u001b[39m_reader \u001b[38;5;241m=\u001b[39m \u001b[38;5;28mself\u001b[39m\u001b[38;5;241m.\u001b[39m_engines[engine](\n\u001b[0;32m   1568\u001b[0m     \u001b[38;5;28mself\u001b[39m\u001b[38;5;241m.\u001b[39m_io,\n\u001b[0;32m   1569\u001b[0m     storage_options\u001b[38;5;241m=\u001b[39mstorage_options,\n\u001b[0;32m   1570\u001b[0m     engine_kwargs\u001b[38;5;241m=\u001b[39mengine_kwargs,\n\u001b[0;32m   1571\u001b[0m )\n",
      "File \u001b[1;32m~\\anacon\\Lib\\site-packages\\pandas\\io\\excel\\_xlrd.py:45\u001b[0m, in \u001b[0;36mXlrdReader.__init__\u001b[1;34m(self, filepath_or_buffer, storage_options, engine_kwargs)\u001b[0m\n\u001b[0;32m     33\u001b[0m \u001b[38;5;250m\u001b[39m\u001b[38;5;124;03m\"\"\"\u001b[39;00m\n\u001b[0;32m     34\u001b[0m \u001b[38;5;124;03mReader using xlrd engine.\u001b[39;00m\n\u001b[0;32m     35\u001b[0m \n\u001b[1;32m   (...)\u001b[0m\n\u001b[0;32m     42\u001b[0m \u001b[38;5;124;03m    Arbitrary keyword arguments passed to excel engine.\u001b[39;00m\n\u001b[0;32m     43\u001b[0m \u001b[38;5;124;03m\"\"\"\u001b[39;00m\n\u001b[0;32m     44\u001b[0m err_msg \u001b[38;5;241m=\u001b[39m \u001b[38;5;124m\"\u001b[39m\u001b[38;5;124mInstall xlrd >= 2.0.1 for xls Excel support\u001b[39m\u001b[38;5;124m\"\u001b[39m\n\u001b[1;32m---> 45\u001b[0m import_optional_dependency(\u001b[38;5;124m\"\u001b[39m\u001b[38;5;124mxlrd\u001b[39m\u001b[38;5;124m\"\u001b[39m, extra\u001b[38;5;241m=\u001b[39merr_msg)\n\u001b[0;32m     46\u001b[0m \u001b[38;5;28msuper\u001b[39m()\u001b[38;5;241m.\u001b[39m\u001b[38;5;21m__init__\u001b[39m(\n\u001b[0;32m     47\u001b[0m     filepath_or_buffer,\n\u001b[0;32m     48\u001b[0m     storage_options\u001b[38;5;241m=\u001b[39mstorage_options,\n\u001b[0;32m     49\u001b[0m     engine_kwargs\u001b[38;5;241m=\u001b[39mengine_kwargs,\n\u001b[0;32m     50\u001b[0m )\n",
      "File \u001b[1;32m~\\anacon\\Lib\\site-packages\\pandas\\compat\\_optional.py:138\u001b[0m, in \u001b[0;36mimport_optional_dependency\u001b[1;34m(name, extra, errors, min_version)\u001b[0m\n\u001b[0;32m    136\u001b[0m \u001b[38;5;28;01mexcept\u001b[39;00m \u001b[38;5;167;01mImportError\u001b[39;00m:\n\u001b[0;32m    137\u001b[0m     \u001b[38;5;28;01mif\u001b[39;00m errors \u001b[38;5;241m==\u001b[39m \u001b[38;5;124m\"\u001b[39m\u001b[38;5;124mraise\u001b[39m\u001b[38;5;124m\"\u001b[39m:\n\u001b[1;32m--> 138\u001b[0m         \u001b[38;5;28;01mraise\u001b[39;00m \u001b[38;5;167;01mImportError\u001b[39;00m(msg)\n\u001b[0;32m    139\u001b[0m     \u001b[38;5;28;01mreturn\u001b[39;00m \u001b[38;5;28;01mNone\u001b[39;00m\n\u001b[0;32m    141\u001b[0m \u001b[38;5;66;03m# Handle submodules: if we have submodule, grab parent module from sys.modules\u001b[39;00m\n",
      "\u001b[1;31mImportError\u001b[0m: Missing optional dependency 'xlrd'. Install xlrd >= 2.0.1 for xls Excel support Use pip or conda to install xlrd."
     ]
    }
   ],
   "source": [
    "# Set your local file path (make sure to escape backslashes or use raw string)\n",
    "file_path = r\"C:\\Users\\aishw\\Downloads\\DV Final project\\World Bank – Health Expenditure (as % of GDP).xls\"\n",
    "\n",
    "# Load the Excel file and skip metadata rows\n",
    "wb_df = pd.read_excel(file_path, skiprows=4)\n",
    "\n",
    "# Drop any unnamed trailing columns\n",
    "wb_df = wb_df.drop(columns=[col for col in wb_df.columns if \"Unnamed\" in col])\n",
    "\n",
    "# Pivot years from wide to long format\n",
    "wb_long = wb_df.melt(\n",
    "    id_vars=[\"Country Name\", \"Country Code\"],\n",
    "    var_name=\"Year\",\n",
    "    value_name=\"Health_Expenditure\"\n",
    ")\n",
    "\n",
    "# Keep only numeric years and cast as int\n",
    "wb_long = wb_long[wb_long[\"Year\"].str.match(r'^\\d{4}$')]\n",
    "wb_long[\"Year\"] = wb_long[\"Year\"].astype(int)\n",
    "\n",
    "# Filter for years from 2000 onward\n",
    "wb_long = wb_long[wb_long[\"Year\"] >= 2000]\n",
    "\n",
    "# Rename columns for consistency\n",
    "wb_cleaned = wb_long.rename(columns={\"Country Name\": \"Country\"})\n",
    "\n",
    "# Convert health expenditure values to numeric\n",
    "wb_cleaned[\"Health_Expenditure\"] = pd.to_numeric(wb_cleaned[\"Health_Expenditure\"], errors=\"coerce\")\n",
    "\n",
    "# Reset index (optional)\n",
    "wb_cleaned = wb_cleaned.reset_index(drop=True)\n",
    "\n",
    "# Print preview or save to CSV\n",
    "print(wb_cleaned.head())\n",
    "# wb_cleaned.to_csv(\"Cleaned_WorldBank_Health_Expenditure.csv\", index=False)"
   ]
  },
  {
   "cell_type": "code",
   "execution_count": 6,
   "id": "eadb7d45-7388-4256-8379-6e247378e220",
   "metadata": {},
   "outputs": [
    {
     "name": "stdout",
     "output_type": "stream",
     "text": [
      "Collecting xlrd==2.0.1\n",
      "  Downloading xlrd-2.0.1-py2.py3-none-any.whl.metadata (3.4 kB)\n",
      "Downloading xlrd-2.0.1-py2.py3-none-any.whl (96 kB)\n",
      "   ---------------------------------------- 0.0/96.5 kB ? eta -:--:--\n",
      "   ---------------------------------------- 0.0/96.5 kB ? eta -:--:--\n",
      "   ---- ----------------------------------- 10.2/96.5 kB ? eta -:--:--\n",
      "   ---------------- ----------------------- 41.0/96.5 kB 487.6 kB/s eta 0:00:01\n",
      "   ---------------------------------------- 96.5/96.5 kB 784.5 kB/s eta 0:00:00\n",
      "Installing collected packages: xlrd\n",
      "Successfully installed xlrd-2.0.1\n",
      "Note: you may need to restart the kernel to use updated packages.\n"
     ]
    }
   ],
   "source": [
    "pip install xlrd==2.0.1\n"
   ]
  },
  {
   "cell_type": "code",
   "execution_count": 2,
   "id": "c6403899-8135-465b-a965-4b2d4d24655f",
   "metadata": {},
   "outputs": [],
   "source": [
    "import pandas as pd"
   ]
  },
  {
   "cell_type": "code",
   "execution_count": 3,
   "id": "070f5454-f4d2-4442-ad0e-69c270312e5a",
   "metadata": {},
   "outputs": [
    {
     "ename": "KeyError",
     "evalue": "\"The following id_vars or value_vars are not present in the DataFrame: ['Country Name', 'Country Code']\"",
     "output_type": "error",
     "traceback": [
      "\u001b[1;31m---------------------------------------------------------------------------\u001b[0m",
      "\u001b[1;31mKeyError\u001b[0m                                  Traceback (most recent call last)",
      "Cell \u001b[1;32mIn[3], line 11\u001b[0m\n\u001b[0;32m      8\u001b[0m wb_df \u001b[38;5;241m=\u001b[39m wb_df\u001b[38;5;241m.\u001b[39mdrop(columns\u001b[38;5;241m=\u001b[39m[col \u001b[38;5;28;01mfor\u001b[39;00m col \u001b[38;5;129;01min\u001b[39;00m wb_df\u001b[38;5;241m.\u001b[39mcolumns \u001b[38;5;28;01mif\u001b[39;00m \u001b[38;5;124m\"\u001b[39m\u001b[38;5;124mUnnamed\u001b[39m\u001b[38;5;124m\"\u001b[39m \u001b[38;5;129;01min\u001b[39;00m col])\n\u001b[0;32m     10\u001b[0m \u001b[38;5;66;03m# Pivot years from wide to long format\u001b[39;00m\n\u001b[1;32m---> 11\u001b[0m wb_long \u001b[38;5;241m=\u001b[39m wb_df\u001b[38;5;241m.\u001b[39mmelt(\n\u001b[0;32m     12\u001b[0m     id_vars\u001b[38;5;241m=\u001b[39m[\u001b[38;5;124m\"\u001b[39m\u001b[38;5;124mCountry Name\u001b[39m\u001b[38;5;124m\"\u001b[39m, \u001b[38;5;124m\"\u001b[39m\u001b[38;5;124mCountry Code\u001b[39m\u001b[38;5;124m\"\u001b[39m],\n\u001b[0;32m     13\u001b[0m     var_name\u001b[38;5;241m=\u001b[39m\u001b[38;5;124m\"\u001b[39m\u001b[38;5;124mYear\u001b[39m\u001b[38;5;124m\"\u001b[39m,\n\u001b[0;32m     14\u001b[0m     value_name\u001b[38;5;241m=\u001b[39m\u001b[38;5;124m\"\u001b[39m\u001b[38;5;124mHealth_Expenditure\u001b[39m\u001b[38;5;124m\"\u001b[39m\n\u001b[0;32m     15\u001b[0m )\n\u001b[0;32m     17\u001b[0m \u001b[38;5;66;03m# Keep only numeric years and cast as int\u001b[39;00m\n\u001b[0;32m     18\u001b[0m wb_long \u001b[38;5;241m=\u001b[39m wb_long[wb_long[\u001b[38;5;124m\"\u001b[39m\u001b[38;5;124mYear\u001b[39m\u001b[38;5;124m\"\u001b[39m]\u001b[38;5;241m.\u001b[39mstr\u001b[38;5;241m.\u001b[39mmatch(\u001b[38;5;124mr\u001b[39m\u001b[38;5;124m'\u001b[39m\u001b[38;5;124m^\u001b[39m\u001b[38;5;124m\\\u001b[39m\u001b[38;5;124md\u001b[39m\u001b[38;5;132;01m{4}\u001b[39;00m\u001b[38;5;124m$\u001b[39m\u001b[38;5;124m'\u001b[39m)]\n",
      "File \u001b[1;32m~\\anacon\\Lib\\site-packages\\pandas\\core\\frame.py:9942\u001b[0m, in \u001b[0;36mDataFrame.melt\u001b[1;34m(self, id_vars, value_vars, var_name, value_name, col_level, ignore_index)\u001b[0m\n\u001b[0;32m   9932\u001b[0m \u001b[38;5;129m@Appender\u001b[39m(_shared_docs[\u001b[38;5;124m\"\u001b[39m\u001b[38;5;124mmelt\u001b[39m\u001b[38;5;124m\"\u001b[39m] \u001b[38;5;241m%\u001b[39m {\u001b[38;5;124m\"\u001b[39m\u001b[38;5;124mcaller\u001b[39m\u001b[38;5;124m\"\u001b[39m: \u001b[38;5;124m\"\u001b[39m\u001b[38;5;124mdf.melt(\u001b[39m\u001b[38;5;124m\"\u001b[39m, \u001b[38;5;124m\"\u001b[39m\u001b[38;5;124mother\u001b[39m\u001b[38;5;124m\"\u001b[39m: \u001b[38;5;124m\"\u001b[39m\u001b[38;5;124mmelt\u001b[39m\u001b[38;5;124m\"\u001b[39m})\n\u001b[0;32m   9933\u001b[0m \u001b[38;5;28;01mdef\u001b[39;00m \u001b[38;5;21mmelt\u001b[39m(\n\u001b[0;32m   9934\u001b[0m     \u001b[38;5;28mself\u001b[39m,\n\u001b[1;32m   (...)\u001b[0m\n\u001b[0;32m   9940\u001b[0m     ignore_index: \u001b[38;5;28mbool\u001b[39m \u001b[38;5;241m=\u001b[39m \u001b[38;5;28;01mTrue\u001b[39;00m,\n\u001b[0;32m   9941\u001b[0m ) \u001b[38;5;241m-\u001b[39m\u001b[38;5;241m>\u001b[39m DataFrame:\n\u001b[1;32m-> 9942\u001b[0m     \u001b[38;5;28;01mreturn\u001b[39;00m melt(\n\u001b[0;32m   9943\u001b[0m         \u001b[38;5;28mself\u001b[39m,\n\u001b[0;32m   9944\u001b[0m         id_vars\u001b[38;5;241m=\u001b[39mid_vars,\n\u001b[0;32m   9945\u001b[0m         value_vars\u001b[38;5;241m=\u001b[39mvalue_vars,\n\u001b[0;32m   9946\u001b[0m         var_name\u001b[38;5;241m=\u001b[39mvar_name,\n\u001b[0;32m   9947\u001b[0m         value_name\u001b[38;5;241m=\u001b[39mvalue_name,\n\u001b[0;32m   9948\u001b[0m         col_level\u001b[38;5;241m=\u001b[39mcol_level,\n\u001b[0;32m   9949\u001b[0m         ignore_index\u001b[38;5;241m=\u001b[39mignore_index,\n\u001b[0;32m   9950\u001b[0m     )\u001b[38;5;241m.\u001b[39m__finalize__(\u001b[38;5;28mself\u001b[39m, method\u001b[38;5;241m=\u001b[39m\u001b[38;5;124m\"\u001b[39m\u001b[38;5;124mmelt\u001b[39m\u001b[38;5;124m\"\u001b[39m)\n",
      "File \u001b[1;32m~\\anacon\\Lib\\site-packages\\pandas\\core\\reshape\\melt.py:74\u001b[0m, in \u001b[0;36mmelt\u001b[1;34m(frame, id_vars, value_vars, var_name, value_name, col_level, ignore_index)\u001b[0m\n\u001b[0;32m     70\u001b[0m \u001b[38;5;28;01mif\u001b[39;00m missing\u001b[38;5;241m.\u001b[39many():\n\u001b[0;32m     71\u001b[0m     missing_labels \u001b[38;5;241m=\u001b[39m [\n\u001b[0;32m     72\u001b[0m         lab \u001b[38;5;28;01mfor\u001b[39;00m lab, not_found \u001b[38;5;129;01min\u001b[39;00m \u001b[38;5;28mzip\u001b[39m(labels, missing) \u001b[38;5;28;01mif\u001b[39;00m not_found\n\u001b[0;32m     73\u001b[0m     ]\n\u001b[1;32m---> 74\u001b[0m     \u001b[38;5;28;01mraise\u001b[39;00m \u001b[38;5;167;01mKeyError\u001b[39;00m(\n\u001b[0;32m     75\u001b[0m         \u001b[38;5;124m\"\u001b[39m\u001b[38;5;124mThe following id_vars or value_vars are not present in \u001b[39m\u001b[38;5;124m\"\u001b[39m\n\u001b[0;32m     76\u001b[0m         \u001b[38;5;124mf\u001b[39m\u001b[38;5;124m\"\u001b[39m\u001b[38;5;124mthe DataFrame: \u001b[39m\u001b[38;5;132;01m{\u001b[39;00mmissing_labels\u001b[38;5;132;01m}\u001b[39;00m\u001b[38;5;124m\"\u001b[39m\n\u001b[0;32m     77\u001b[0m     )\n\u001b[0;32m     78\u001b[0m \u001b[38;5;28;01mif\u001b[39;00m value_vars_was_not_none:\n\u001b[0;32m     79\u001b[0m     frame \u001b[38;5;241m=\u001b[39m frame\u001b[38;5;241m.\u001b[39miloc[:, algos\u001b[38;5;241m.\u001b[39munique(idx)]\n",
      "\u001b[1;31mKeyError\u001b[0m: \"The following id_vars or value_vars are not present in the DataFrame: ['Country Name', 'Country Code']\""
     ]
    }
   ],
   "source": [
    "# Set your local file path (make sure to escape backslashes or use raw string)\n",
    "file_path = r\"C:\\Users\\aishw\\Downloads\\DV Final project\\World Bank – Health Expenditure (as % of GDP).xls\"\n",
    "\n",
    "# Load the Excel file and skip metadata rows\n",
    "wb_df = pd.read_excel(file_path, skiprows=4)\n",
    "\n",
    "# Drop any unnamed trailing columns\n",
    "wb_df = wb_df.drop(columns=[col for col in wb_df.columns if \"Unnamed\" in col])\n",
    "\n",
    "# Pivot years from wide to long format\n",
    "wb_long = wb_df.melt(\n",
    "    id_vars=[\"Country Name\", \"Country Code\"],\n",
    "    var_name=\"Year\",\n",
    "    value_name=\"Health_Expenditure\"\n",
    ")\n",
    "\n",
    "# Keep only numeric years and cast as int\n",
    "wb_long = wb_long[wb_long[\"Year\"].str.match(r'^\\d{4}$')]\n",
    "wb_long[\"Year\"] = wb_long[\"Year\"].astype(int)\n",
    "\n",
    "# Filter for years from 2000 onward\n",
    "wb_long = wb_long[wb_long[\"Year\"] >= 2000]\n",
    "\n",
    "# Rename columns for consistency\n",
    "wb_cleaned = wb_long.rename(columns={\"Country Name\": \"Country\"})\n",
    "\n",
    "# Convert health expenditure values to numeric\n",
    "wb_cleaned[\"Health_Expenditure\"] = pd.to_numeric(wb_cleaned[\"Health_Expenditure\"], errors=\"coerce\")\n",
    "\n",
    "# Reset index (optional)\n",
    "wb_cleaned = wb_cleaned.reset_index(drop=True)\n",
    "\n",
    "# Print preview or save to CSV\n",
    "print(wb_cleaned.head())\n",
    "# wb_cleaned.to_csv(\"Cleaned_WorldBank_Health_Expenditure.csv\", index=False)"
   ]
  },
  {
   "cell_type": "code",
   "execution_count": 4,
   "id": "42620241-591f-480f-aa9b-29d909135494",
   "metadata": {},
   "outputs": [
    {
     "name": "stdout",
     "output_type": "stream",
     "text": [
      "['Aruba', 'ABW', 'Current health expenditure (% of GDP)', 'SH.XPD.CHEX.GD.ZS']\n"
     ]
    }
   ],
   "source": [
    "print(wb_df.columns.tolist())\n",
    "\n"
   ]
  },
  {
   "cell_type": "code",
   "execution_count": 5,
   "id": "72bbe0b9-2151-4f04-9d06-f9ee4acf9134",
   "metadata": {},
   "outputs": [
    {
     "name": "stdout",
     "output_type": "stream",
     "text": [
      "['Country Name', 'Country Code', 'Indicator Name', 'Indicator Code', '1960', '1961', '1962', '1963', '1964', '1965', '1966', '1967', '1968', '1969', '1970', '1971', '1972', '1973', '1974', '1975', '1976', '1977', '1978', '1979', '1980', '1981', '1982', '1983', '1984', '1985', '1986', '1987', '1988', '1989', '1990', '1991', '1992', '1993', '1994', '1995', '1996', '1997', '1998', '1999', '2000', '2001', '2002', '2003', '2004', '2005', '2006', '2007', '2008', '2009', '2010', '2011', '2012', '2013', '2014', '2015', '2016', '2017', '2018', '2019', '2020', '2021', '2022', '2023', '2024']\n",
      "                       Country Country Code  Year  Health_Expenditure\n",
      "0                        Aruba          ABW  2000                 NaN\n",
      "1  Africa Eastern and Southern          AFE  2000            5.654027\n",
      "2                  Afghanistan          AFG  2000                 NaN\n",
      "3   Africa Western and Central          AFW  2000            3.462852\n",
      "4                       Angola          AGO  2000            1.908599\n"
     ]
    }
   ],
   "source": [
    "import pandas as pd\n",
    "\n",
    "file_path = r\"C:\\Users\\aishw\\Downloads\\DV Final project\\World Bank – Health Expenditure (as % of GDP).xls\"\n",
    "\n",
    "# Skip first 3 metadata rows to get actual headers\n",
    "wb_df = pd.read_excel(file_path, skiprows=3)\n",
    "\n",
    "# Clean column names\n",
    "wb_df.columns = wb_df.columns.str.strip()\n",
    "\n",
    "# Check the first few columns\n",
    "print(wb_df.columns.tolist())\n",
    "\n",
    "# Drop unnamed columns (trailing)\n",
    "wb_df = wb_df.drop(columns=[col for col in wb_df.columns if \"Unnamed\" in col])\n",
    "\n",
    "# Pivot from wide to long\n",
    "wb_long = wb_df.melt(\n",
    "    id_vars=[\"Country Name\", \"Country Code\"],\n",
    "    var_name=\"Year\",\n",
    "    value_name=\"Health_Expenditure\"\n",
    ")\n",
    "\n",
    "# Filter valid years\n",
    "wb_long = wb_long[wb_long[\"Year\"].str.match(r'^\\d{4}$')]\n",
    "wb_long[\"Year\"] = wb_long[\"Year\"].astype(int)\n",
    "wb_long = wb_long[wb_long[\"Year\"] >= 2000]\n",
    "\n",
    "# Rename and convert\n",
    "wb_cleaned = wb_long.rename(columns={\"Country Name\": \"Country\"})\n",
    "wb_cleaned[\"Health_Expenditure\"] = pd.to_numeric(wb_cleaned[\"Health_Expenditure\"], errors=\"coerce\")\n",
    "wb_cleaned = wb_cleaned.reset_index(drop=True)\n",
    "\n",
    "# Preview\n",
    "print(wb_cleaned.head())\n"
   ]
  },
  {
   "cell_type": "code",
   "execution_count": 6,
   "id": "e712dca7-408a-4778-9c96-2b5b4c53121e",
   "metadata": {},
   "outputs": [
    {
     "name": "stdout",
     "output_type": "stream",
     "text": [
      "                       Country Country Code  Year  Health_Expenditure\n",
      "0                        Aruba          ABW  2000                 NaN\n",
      "1  Africa Eastern and Southern          AFE  2000            5.654027\n",
      "2                  Afghanistan          AFG  2000                 NaN\n",
      "3   Africa Western and Central          AFW  2000            3.462852\n",
      "4                       Angola          AGO  2000            1.908599\n"
     ]
    }
   ],
   "source": [
    "import pandas as pd\n",
    "\n",
    "# Set path to your Excel file\n",
    "file_path = r\"C:\\Users\\aishw\\Downloads\\DV Final project\\World Bank – Health Expenditure (as % of GDP).xls\"\n",
    "\n",
    "# Load data, skipping metadata rows to reach the real header\n",
    "wb_df = pd.read_excel(file_path, skiprows=3)\n",
    "\n",
    "# Clean up column names\n",
    "wb_df.columns = wb_df.columns.str.strip()\n",
    "\n",
    "# Drop unnamed (empty) columns if any\n",
    "wb_df = wb_df.drop(columns=[col for col in wb_df.columns if \"Unnamed\" in col])\n",
    "\n",
    "# Pivot from wide (years as columns) to long (years as rows)\n",
    "wb_long = wb_df.melt(\n",
    "    id_vars=[\"Country Name\", \"Country Code\"],\n",
    "    var_name=\"Year\",\n",
    "    value_name=\"Health_Expenditure\"\n",
    ")\n",
    "\n",
    "# Keep only numeric year values and filter from 2000 onward\n",
    "wb_long = wb_long[wb_long[\"Year\"].str.match(r'^\\d{4}$')]\n",
    "wb_long[\"Year\"] = wb_long[\"Year\"].astype(int)\n",
    "wb_long = wb_long[wb_long[\"Year\"] >= 2000]\n",
    "\n",
    "# Final cleanup\n",
    "wb_cleaned = wb_long.rename(columns={\"Country Name\": \"Country\"})\n",
    "wb_cleaned[\"Health_Expenditure\"] = pd.to_numeric(wb_cleaned[\"Health_Expenditure\"], errors=\"coerce\")\n",
    "wb_cleaned = wb_cleaned.reset_index(drop=True)\n",
    "\n",
    "# Preview cleaned data\n",
    "print(wb_cleaned.head())\n",
    "\n",
    "# Optional: Save to CSV\n",
    "# wb_cleaned.to_csv(\"Cleaned_WorldBank_Health_Expenditure.csv\", index=False)\n"
   ]
  },
  {
   "cell_type": "code",
   "execution_count": 7,
   "id": "78a55d3f-0715-418d-9517-219cbe2344da",
   "metadata": {},
   "outputs": [],
   "source": [
    "wb_cleaned.to_excel(\"Cleaned_WorldBank_Health_Expenditure.xlsx\", index=False)"
   ]
  },
  {
   "cell_type": "code",
   "execution_count": 8,
   "id": "05822f1a-3c09-421b-95ef-22f2972a7fdb",
   "metadata": {},
   "outputs": [
    {
     "name": "stdout",
     "output_type": "stream",
     "text": [
      "                       Country Country Code  Year  Health_Expenditure  \\\n",
      "0                        Aruba          ABW  2000                 NaN   \n",
      "1  Africa Eastern and Southern          AFE  2000            5.654027   \n",
      "2                  Afghanistan          AFG  2000                 NaN   \n",
      "3   Africa Western and Central          AFW  2000            3.462852   \n",
      "4                       Angola          AGO  2000            1.908599   \n",
      "\n",
      "                      Region         Income_Level  \n",
      "0  Latin America & Caribbean          High income  \n",
      "1                        NaN                  NaN  \n",
      "2                 South Asia           Low income  \n",
      "3                        NaN                  NaN  \n",
      "4         Sub-Saharan Africa  Lower middle income  \n"
     ]
    }
   ],
   "source": [
    "import pandas as pd\n",
    "\n",
    "# Load main data\n",
    "file_path = r\"C:\\Users\\aishw\\Downloads\\DV Final project\\World Bank – Health Expenditure (as % of GDP).xls\"\n",
    "wb_df = pd.read_excel(file_path, sheet_name='Data', skiprows=3)\n",
    "wb_df.columns = wb_df.columns.str.strip()\n",
    "wb_df = wb_df.drop(columns=[col for col in wb_df.columns if \"Unnamed\" in col])\n",
    "\n",
    "# Pivot from wide to long format\n",
    "wb_long = wb_df.melt(\n",
    "    id_vars=[\"Country Name\", \"Country Code\"],\n",
    "    var_name=\"Year\",\n",
    "    value_name=\"Health_Expenditure\"\n",
    ")\n",
    "\n",
    "# Clean and filter\n",
    "wb_long = wb_long[wb_long[\"Year\"].str.match(r'^\\d{4}$')]\n",
    "wb_long[\"Year\"] = wb_long[\"Year\"].astype(int)\n",
    "wb_long = wb_long[wb_long[\"Year\"] >= 2000]\n",
    "wb_cleaned = wb_long.rename(columns={\"Country Name\": \"Country\"})\n",
    "wb_cleaned[\"Health_Expenditure\"] = pd.to_numeric(wb_cleaned[\"Health_Expenditure\"], errors=\"coerce\")\n",
    "\n",
    "# ✅ Load metadata sheet and merge\n",
    "meta_df = pd.read_excel(file_path, sheet_name='Metadata - Countries')\n",
    "meta_df.columns = meta_df.columns.str.strip()\n",
    "\n",
    "# Keep only relevant columns\n",
    "meta_trimmed = meta_df[['Country Code', 'Region', 'IncomeGroup']].rename(columns={'IncomeGroup': 'Income_Level'})\n",
    "\n",
    "# Merge with main data on 'Country Code'\n",
    "wb_merged = pd.merge(wb_cleaned, meta_trimmed, on='Country Code', how='left')\n",
    "\n",
    "# Save or preview\n",
    "wb_merged.to_excel(\"Cleaned_WorldBank_with_Region_Income.xlsx\", index=False)\n",
    "print(wb_merged.head())\n"
   ]
  },
  {
   "cell_type": "code",
   "execution_count": 9,
   "id": "049dddf3-c6bf-4742-90f5-f9dc9c401fca",
   "metadata": {},
   "outputs": [
    {
     "name": "stdout",
     "output_type": "stream",
     "text": [
      "                       Country Country Code                     Region  \\\n",
      "0                        Aruba          ABW  Latin America & Caribbean   \n",
      "1  Africa Eastern and Southern          AFE                        NaN   \n",
      "2                  Afghanistan          AFG                 South Asia   \n",
      "3   Africa Western and Central          AFW                        NaN   \n",
      "4                       Angola          AGO         Sub-Saharan Africa   \n",
      "\n",
      "          Income_Level  Year  Health_Expenditure  \n",
      "0          High income  2000                 NaN  \n",
      "1                  NaN  2000            5.654027  \n",
      "2           Low income  2000                 NaN  \n",
      "3                  NaN  2000            3.462852  \n",
      "4  Lower middle income  2000            1.908599  \n"
     ]
    }
   ],
   "source": [
    "import pandas as pd\n",
    "\n",
    "# Load main World Bank data\n",
    "file_path = r\"C:\\Users\\aishw\\Downloads\\DV Final project\\World Bank – Health Expenditure (as % of GDP).xls\"\n",
    "wb_df = pd.read_excel(file_path, sheet_name='Data', skiprows=3)\n",
    "wb_df.columns = wb_df.columns.str.strip()\n",
    "wb_df = wb_df.drop(columns=[col for col in wb_df.columns if \"Unnamed\" in col])\n",
    "\n",
    "# Melt to long format\n",
    "wb_long = wb_df.melt(\n",
    "    id_vars=[\"Country Name\", \"Country Code\"],\n",
    "    var_name=\"Year\",\n",
    "    value_name=\"Health_Expenditure\"\n",
    ")\n",
    "\n",
    "# Filter for valid years\n",
    "wb_long = wb_long[wb_long[\"Year\"].str.match(r'^\\d{4}$')]\n",
    "wb_long[\"Year\"] = wb_long[\"Year\"].astype(int)\n",
    "wb_long = wb_long[wb_long[\"Year\"] >= 2000]\n",
    "\n",
    "# Rename for clarity\n",
    "wb_cleaned = wb_long.rename(columns={\"Country Name\": \"Country\"})\n",
    "wb_cleaned[\"Health_Expenditure\"] = pd.to_numeric(wb_cleaned[\"Health_Expenditure\"], errors=\"coerce\")\n",
    "\n",
    "# Load metadata for region and income level\n",
    "meta_df = pd.read_excel(file_path, sheet_name='Metadata - Countries')\n",
    "meta_df.columns = meta_df.columns.str.strip()\n",
    "meta_trimmed = meta_df[['Country Code', 'Region', 'IncomeGroup']].rename(columns={'IncomeGroup': 'Income_Level'})\n",
    "\n",
    "# Merge metadata into main data\n",
    "wb_merged = pd.merge(wb_cleaned, meta_trimmed, on='Country Code', how='left')\n",
    "\n",
    "# ✅ Reorder columns: Country, Country Code, Region, Income_Level, Year, Health_Expenditure\n",
    "column_order = ['Country', 'Country Code', 'Region', 'Income_Level', 'Year', 'Health_Expenditure']\n",
    "wb_merged = wb_merged[column_order]\n",
    "\n",
    "# Save to Excel\n",
    "wb_merged.to_excel(\"Cleaned_WorldBank_with_Region_Income.xlsx\", index=False)\n",
    "print(wb_merged.head())\n"
   ]
  },
  {
   "cell_type": "code",
   "execution_count": null,
   "id": "9ae2a093-d8f8-4f73-8e90-93dc2f160f32",
   "metadata": {},
   "outputs": [],
   "source": []
  },
  {
   "cell_type": "markdown",
   "id": "d3f187dc-ef8f-4339-aa18-27f9aa2e1356",
   "metadata": {},
   "source": [
    "For Who Dataset"
   ]
  },
  {
   "cell_type": "code",
   "execution_count": 15,
   "id": "eb669356-6e47-49cf-b356-f23311365518",
   "metadata": {},
   "outputs": [
    {
     "name": "stdout",
     "output_type": "stream",
     "text": [
      "  IndicatorCode                                          Indicator  \\\n",
      "0          MH_6  Psychiatrists working in mental health sector ...   \n",
      "1          MH_6  Psychiatrists working in mental health sector ...   \n",
      "2          MH_6  Psychiatrists working in mental health sector ...   \n",
      "3          MH_6  Psychiatrists working in mental health sector ...   \n",
      "4          MH_6  Psychiatrists working in mental health sector ...   \n",
      "\n",
      "  Region code           Region Location type Country code  \\\n",
      "0         WPR  Western Pacific       Country          MHL   \n",
      "1         AFR           Africa       Country          BDI   \n",
      "2         AFR           Africa       Country          CAF   \n",
      "3         AFR           Africa       Country          SLE   \n",
      "4         AFR           Africa       Country          SWZ   \n",
      "\n",
      "                    Country Period type  Year  FactValueNumeric  Value  \n",
      "0          Marshall Islands        Year  2017             0.000  0.000  \n",
      "1                   Burundi        Year  2017             0.010  0.010  \n",
      "2  Central African Republic        Year  2017             0.022  0.022  \n",
      "3              Sierra Leone        Year  2017             0.041  0.041  \n",
      "4                  Eswatini        Year  2017             0.076  0.076  \n"
     ]
    }
   ],
   "source": [
    "import pandas as pd\n",
    "\n",
    "# Load WHO dataset (update path as needed)\n",
    "who_file = r\"C:\\Users\\aishw\\Downloads\\DV Final project\\WHO – Mental Health Service Availability.csv\"\n",
    "who_df = pd.read_csv(who_file)\n",
    "\n",
    "# Step 1: Drop empty/useless columns (from Dim1 type to FactValueNumericPrefix)\n",
    "columns_to_remove_1 = ['Dim1 type',\t'Dim1ValueCode',\t'Dim2 type',\n",
    "'Dim1',\t'Dim1ValueCode'\t'Dim2 type',\t'Dim2',\t'Dim2ValueCode',\t'Dim3 type',\t'Dim3',\t'Dim3ValueCode',\t'DataSourceDimValueCode',\t'DataSource',\t'FactValueNumericPrefix',    'ValueType', 'IsLatestYear', 'FactValueUoM',\n",
    "    'FactValueNumericLowPrefix', 'FactValueNumericLow',\n",
    "    'FactValueNumericHighPrefix', 'FactValueNumericHigh',\n",
    "    'FactValueTranslationID', 'FactComments', 'Language', 'DateModified'\n",
    "]\n",
    "\n",
    "# Drop by name (only if column exists to avoid errors)\n",
    "who_df = who_df.drop(columns=[col for col in columns_to_remove_1 if col in who_df.columns], errors='ignore')\n",
    "\n",
    "# Step 2: Rename specified columns\n",
    "who_df = who_df.rename(columns={\n",
    "    'ParentLocationCode': 'Region code',\n",
    "    'ParentLocation': 'Region',\n",
    "    'SpatialDimValueCode': 'Country code',\n",
    "    'Location': 'Country',\n",
    "    'Period': 'Year'\n",
    "})\n",
    "\n",
    "# Optional: Clean up whitespace in column names (just in case)\n",
    "who_df.columns = who_df.columns.str.strip()\n",
    "\n",
    "# Preview cleaned structure\n",
    "print(who_df.head())\n",
    "\n",
    "# Save to cleaned CSV (optional)\n",
    "who_df.to_csv(\"Cleaned_WHO_Mental_Health.csv\", index=False)\n"
   ]
  },
  {
   "cell_type": "code",
   "execution_count": null,
   "id": "7efb212f-7f8d-4298-bc05-b79a836a1014",
   "metadata": {},
   "outputs": [],
   "source": []
  },
  {
   "cell_type": "markdown",
   "id": "fbf2fe84-d63d-45c9-bf93-4c765247d819",
   "metadata": {},
   "source": [
    "drug dataprep"
   ]
  },
  {
   "cell_type": "code",
   "execution_count": 24,
   "id": "587eccd9-6827-4d0b-a2cf-3026c9433cbe",
   "metadata": {},
   "outputs": [
    {
     "name": "stdout",
     "output_type": "stream",
     "text": [
      "   Region    Subregion     Country  Year Age_Group  Prevalence_Best  \\\n",
      "0  Africa  East Africa       Kenya  2016     15-64             1.20   \n",
      "1     NaN          NaN       Kenya  2007     15-65             2.10   \n",
      "2     NaN          NaN       Kenya  2004     15-64             7.10   \n",
      "3     NaN          NaN  Madagascar  2004     15-64             9.10   \n",
      "4     NaN          NaN   Mauritius  2009     15-54             1.08   \n",
      "\n",
      "  Prevalence_Low Prevalence_High  Prevalence_Male  Prevalence_Female Drug_Type  \n",
      "0            NaN             NaN              2.1                0.3  Cannabis  \n",
      "1            0.3             4.0              NaN                NaN  Cannabis  \n",
      "2            NaN             NaN              NaN                NaN  Cannabis  \n",
      "3            NaN             NaN              NaN                NaN  Cannabis  \n",
      "4            NaN             NaN              NaN                NaN  Cannabis  \n"
     ]
    }
   ],
   "source": [
    "import pandas as pd\n",
    "\n",
    "# Set your local file path\n",
    "unodc_path = r\"C:\\Users\\aishw\\Downloads\\DV Final project\\1.1_Prevalence_of_drug_use_in_the_general_population_national_data.xlsx\"\n",
    "\n",
    "# Load the Excel file\n",
    "unodc_excel = pd.ExcelFile(unodc_path)\n",
    "\n",
    "# Clean and combine all sheets\n",
    "unodc_data = []\n",
    "\n",
    "# Loop through each sheet and dynamically locate the header row\n",
    "for sheet in unodc_excel.sheet_names:\n",
    "    raw_df = pd.read_excel(unodc_path, sheet_name=sheet, header=None)\n",
    "\n",
    "    # Find the header row with 'Country/Territory'\n",
    "    header_row_idx = raw_df[raw_df.apply(\n",
    "        lambda row: row.astype(str).str.contains(\"Country/Territory\", case=False).any(), axis=1\n",
    "    )].index[0]\n",
    "\n",
    "    # Load sheet using the correct header\n",
    "    df = pd.read_excel(unodc_path, sheet_name=sheet, skiprows=header_row_idx)\n",
    "    df.columns = df.columns.str.strip()  # clean up whitespace\n",
    "    df['Drug_Type'] = sheet\n",
    "    unodc_data.append(df)\n",
    "\n",
    "# Combine all sheets\n",
    "unodc_combined = pd.concat(unodc_data, ignore_index=True)\n",
    "\n",
    "# Rename relevant columns\n",
    "unodc_combined = unodc_combined.rename(columns={\n",
    "    'Region': 'Region',\n",
    "    'Sub-region': 'Subregion',\n",
    "    'Country/Territory': 'Country',\n",
    "    'Year': 'Year',\n",
    "    'Age': 'Age_Group',\n",
    "    'Best': 'Prevalence_Best',\n",
    "    'Low': 'Prevalence_Low',\n",
    "    'High': 'Prevalence_High',\n",
    "    'Male': 'Prevalence_Male',\n",
    "    'Female': 'Prevalence_Female'\n",
    "})\n",
    "\n",
    "\n",
    "# Keep only necessary columns\n",
    "unodc_cleaned = unodc_combined[[\n",
    "    'Region', 'Subregion', 'Country', 'Year', 'Age_Group',\n",
    "    'Prevalence_Best', 'Prevalence_Low', 'Prevalence_High',\n",
    "    'Prevalence_Male', 'Prevalence_Female', 'Drug_Type'\n",
    "]]\n",
    "\n",
    "# Drop rows with missing essential values\n",
    "unodc_cleaned = unodc_cleaned.dropna(subset=['Country', 'Year', 'Prevalence_Best'])\n",
    "\n",
    "# Convert data types\n",
    "unodc_cleaned['Year'] = unodc_cleaned['Year'].astype(str)\n",
    "unodc_cleaned['Prevalence_Best'] = pd.to_numeric(unodc_cleaned['Prevalence_Best'], errors='coerce')\n",
    "unodc_cleaned['Prevalence_Male'] = pd.to_numeric(unodc_cleaned['Prevalence_Male'], errors='coerce')\n",
    "unodc_cleaned['Prevalence_Female'] = pd.to_numeric(unodc_cleaned['Prevalence_Female'], errors='coerce')\n",
    "\n",
    "# Save to cleaned file\n",
    "unodc_cleaned.to_csv(r\"C:\\Users\\aishw\\Downloads\\DV Final project\\Cleaned_UNODC_Drug_Prevalence.csv\", index=False)\n",
    "\n",
    "# Optional preview\n",
    "print(unodc_cleaned.head())\n"
   ]
  },
  {
   "cell_type": "code",
   "execution_count": 26,
   "id": "12fba464-1255-4cdc-8580-f3eee52d058b",
   "metadata": {},
   "outputs": [],
   "source": [
    "# Drop rows that are completely empty\n",
    "unodc_combined = unodc_combined.dropna(how='all')\n",
    "\n",
    "# Forward-fill Country, Region, and Subregion if they are missing (common UNODC pattern)\n",
    "for col in ['Country/Territory', 'Region', 'Sub-region']:\n",
    "    if col in unodc_combined.columns:\n",
    "       unodc_combined[col] = unodc_combined[col].ffill()\n",
    "\n",
    "# Continue with renaming and selecting as before\n",
    "unodc_combined = unodc_combined.rename(columns={\n",
    "    'Region': 'Region',\n",
    "    'Sub-region': 'Subregion',\n",
    "    'Country/Territory': 'Country',\n",
    "    'Year': 'Year',\n",
    "    'Age': 'Age_Group',\n",
    "    'Best': 'Prevalence_Best',\n",
    "    'Low': 'Prevalence_Low',\n",
    "    'High': 'Prevalence_High',\n",
    "    'Male': 'Prevalence_Male',\n",
    "    'Female': 'Prevalence_Female'\n",
    "})\n",
    "\n",
    "unodc_cleaned = unodc_combined[[\n",
    "    'Region', 'Subregion', 'Country', 'Year', 'Age_Group',\n",
    "    'Prevalence_Best', 'Prevalence_Low', 'Prevalence_High',\n",
    "    'Prevalence_Male', 'Prevalence_Female', 'Drug_Type'\n",
    "]]\n",
    "\n",
    "# Drop rows where country/year/prevalence is missing\n",
    "unodc_cleaned = unodc_cleaned.dropna(subset=['Country', 'Year', 'Prevalence_Best'])\n"
   ]
  },
  {
   "cell_type": "code",
   "execution_count": 29,
   "id": "576b8d81-449c-4fea-80e9-3d78e813f7a7",
   "metadata": {},
   "outputs": [],
   "source": [
    "unodc_cleaned.to_excel(r\"C:\\Users\\aishw\\Downloads\\DV Final project\\final_Cleaned_UNODC_Drug_Prevalence1.xlsx\", index=False)\n"
   ]
  },
  {
   "cell_type": "code",
   "execution_count": null,
   "id": "04732112-73c1-4768-b423-e723c0d55463",
   "metadata": {},
   "outputs": [],
   "source": []
  }
 ],
 "metadata": {
  "kernelspec": {
   "display_name": "Python 3 (ipykernel)",
   "language": "python",
   "name": "python3"
  },
  "language_info": {
   "codemirror_mode": {
    "name": "ipython",
    "version": 3
   },
   "file_extension": ".py",
   "mimetype": "text/x-python",
   "name": "python",
   "nbconvert_exporter": "python",
   "pygments_lexer": "ipython3",
   "version": "3.12.4"
  }
 },
 "nbformat": 4,
 "nbformat_minor": 5
}
